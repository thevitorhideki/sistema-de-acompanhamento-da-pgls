{
 "cells": [
  {
   "cell_type": "markdown",
   "metadata": {},
   "source": [
    "Autoavaliação Aluno\n",
    "Ensino\n",
    "Aprendizado Centrado no Aluno\n",
    "Aspectos operacionais\n",
    "Avaliação e feedback\n",
    "Avaliação da monitoria\n",
    "Média do Professor\n",
    "Recomenda o professor/curso\n",
    "Não recomenda o professor/curso\n",
    "\n",
    "Questões relacionadas ao planejamento\n",
    "Questões relacionadas à dinâmica\n",
    "Questões relacionadas à avaliação\n",
    "Questões relacionadas ao feedback\n",
    "Considerando o desempenho do professor na disciplina até o momento, você recomendaria este professor para um colega? (1 - 11)"
   ]
  }
 ],
 "metadata": {
  "language_info": {
   "name": "python"
  }
 },
 "nbformat": 4,
 "nbformat_minor": 2
}
