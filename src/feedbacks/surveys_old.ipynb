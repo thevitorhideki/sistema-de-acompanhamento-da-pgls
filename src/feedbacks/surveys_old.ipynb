{
 "cells": [
  {
   "cell_type": "code",
   "execution_count": 2,
   "metadata": {},
   "outputs": [],
   "source": [
    "import pandas as pd\n",
    "import re"
   ]
  },
  {
   "cell_type": "code",
   "execution_count": 3,
   "metadata": {},
   "outputs": [],
   "source": [
    "old_surveys_final = pd.read_csv('../../data/old_pgls_final.csv')\n",
    "old_surveys_parcial = pd.read_csv('../../data/old_pgls_parcial.csv')"
   ]
  },
  {
   "cell_type": "code",
   "execution_count": 6,
   "metadata": {},
   "outputs": [],
   "source": [
    "def extrair_turma_e_divisao(codigo):\n",
    "    # Expressão regular para extrair a turma (letras e números iniciais)\n",
    "    match_turma = re.match(r'^[A-Za-z]+\\d+', codigo)\n",
    "    turma = match_turma.group(0) if match_turma else codigo\n",
    "\n",
    "    # Expressão regular para extrair a divisão (últimos caracteres após \"_\", se existir)\n",
    "    match_divisao = re.search(r'_(\\w+)$', codigo)\n",
    "    divisao = match_divisao.group(1) if match_divisao else None\n",
    "\n",
    "    # Retorna a turma com a divisão anexada, se existir\n",
    "    return f\"{turma}_{divisao}\" if divisao else turma\n",
    "\n",
    "old_surveys_parcial['turma'] = old_surveys_parcial['codigo_turma'].apply(extrair_turma_e_divisao)\n",
    "\n",
    "old_surveys_parcial.to_csv('../../data/old_pgls_parcial.csv', index=False)"
   ]
  }
 ],
 "metadata": {
  "kernelspec": {
   "display_name": ".venv",
   "language": "python",
   "name": "python3"
  },
  "language_info": {
   "codemirror_mode": {
    "name": "ipython",
    "version": 3
   },
   "file_extension": ".py",
   "mimetype": "text/x-python",
   "name": "python",
   "nbconvert_exporter": "python",
   "pygments_lexer": "ipython3",
   "version": "3.12.6"
  }
 },
 "nbformat": 4,
 "nbformat_minor": 2
}
